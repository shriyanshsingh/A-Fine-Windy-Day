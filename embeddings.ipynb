{
  "nbformat": 4,
  "nbformat_minor": 0,
  "metadata": {
    "colab": {
      "provenance": [],
      "include_colab_link": true
    },
    "kernelspec": {
      "name": "python3",
      "display_name": "Python 3"
    }
  },
  "cells": [
    {
      "cell_type": "markdown",
      "metadata": {
        "id": "view-in-github",
        "colab_type": "text"
      },
      "source": [
        "<a href=\"https://colab.research.google.com/github/shriyanshsingh/A-Fine-Windy-Day/blob/main/embeddings.ipynb\" target=\"_parent\"><img src=\"https://colab.research.google.com/assets/colab-badge.svg\" alt=\"Open In Colab\"/></a>"
      ]
    },
    {
      "cell_type": "markdown",
      "metadata": {
        "id": "oDsn_Motja8Q"
      },
      "source": [
        "# Cross-Language Word Embeddings\n",
        "\n",
        "In class, we discussed how we can reduce the dimensionality of word representations from their original vector space to an embedding space on the order of a few hundred dimensions. Different modeling choices for word embeddings may be ultimately evaluated by the effectiveness of classification or retrieval models.\n",
        "\n",
        "In this assignment, however, we will consider another common method of evaluating word embeddings: by judging the usefulness of pairwise distances between words in the embedding space.\n",
        "\n",
        "Follow along with the examples in this notebook, and implement the sections of code flagged with **TODO**."
      ]
    },
    {
      "cell_type": "code",
      "metadata": {
        "id": "UKm5cPMQ2xHU"
      },
      "source": [
        "# The following packages are installed by default on Colab\n",
        "# If you're running on another platform, you may need to install them with\n",
        "# pip, conda, brew, or other package managers.\n",
        "import gensim\n",
        "import numpy as np\n",
        "from gensim.test.utils import datapath, get_tmpfile\n",
        "from gensim.models import Word2Vec\n",
        "from gensim.models.word2vec import LineSentence"
      ],
      "execution_count": null,
      "outputs": []
    },
    {
      "cell_type": "markdown",
      "metadata": {
        "id": "sfKjYFDklB4c"
      },
      "source": [
        "We'll start by downloading a plain-text version of the plays of William Shakespeare."
      ]
    },
    {
      "cell_type": "code",
      "metadata": {
        "id": "Dw3bvl1yf5FB",
        "colab": {
          "base_uri": "https://localhost:8080/"
        },
        "outputId": "57943df7-59e8-4978-cda8-842b898b9d99"
      },
      "source": [
        "!wget http://www.ccs.neu.edu/home/dasmith/courses/cs6200/shakespeare_plays.txt\n",
        "lines = [s.split() for s in open('shakespeare_plays.txt')]"
      ],
      "execution_count": null,
      "outputs": [
        {
          "output_type": "stream",
          "name": "stdout",
          "text": [
            "--2024-12-06 01:32:43--  http://www.ccs.neu.edu/home/dasmith/courses/cs6200/shakespeare_plays.txt\n",
            "Resolving www.ccs.neu.edu (www.ccs.neu.edu)... 52.70.229.197\n",
            "Connecting to www.ccs.neu.edu (www.ccs.neu.edu)|52.70.229.197|:80... connected.\n",
            "HTTP request sent, awaiting response... 301 Moved Permanently\n",
            "Location: https://www.khoury.northeastern.edu/home/dasmith/courses/cs6200/shakespeare_plays.txt [following]\n",
            "--2024-12-06 01:32:43--  https://www.khoury.northeastern.edu/home/dasmith/courses/cs6200/shakespeare_plays.txt\n",
            "Resolving www.khoury.northeastern.edu (www.khoury.northeastern.edu)... 52.70.229.197\n",
            "Connecting to www.khoury.northeastern.edu (www.khoury.northeastern.edu)|52.70.229.197|:443... connected.\n",
            "HTTP request sent, awaiting response... 200 OK\n",
            "Length: 4746840 (4.5M) [text/plain]\n",
            "Saving to: ‘shakespeare_plays.txt’\n",
            "\n",
            "shakespeare_plays.t 100%[===================>]   4.53M  10.4MB/s    in 0.4s    \n",
            "\n",
            "2024-12-06 01:32:44 (10.4 MB/s) - ‘shakespeare_plays.txt’ saved [4746840/4746840]\n",
            "\n"
          ]
        }
      ]
    },
    {
      "cell_type": "markdown",
      "metadata": {
        "id": "5cZ52pEflKKM"
      },
      "source": [
        "Then, we'll estimate a simple word2vec model on the Shakespeare texts."
      ]
    },
    {
      "cell_type": "code",
      "metadata": {
        "id": "eXT5BNPs_zjM"
      },
      "source": [
        "model = Word2Vec(lines)"
      ],
      "execution_count": null,
      "outputs": []
    },
    {
      "cell_type": "markdown",
      "metadata": {
        "id": "Fzt3lG1-lw33"
      },
      "source": [
        "Even with such a small training set size, you can perform some standard analogy tasks we discussed in class."
      ]
    },
    {
      "cell_type": "code",
      "metadata": {
        "id": "i4ruAqhKC3-R",
        "colab": {
          "base_uri": "https://localhost:8080/"
        },
        "outputId": "e10403a8-6b13-432e-9434-0174ec9f0604"
      },
      "source": [
        "model.wv.most_similar(positive=['king','woman'], negative=['man'])"
      ],
      "execution_count": null,
      "outputs": [
        {
          "output_type": "execute_result",
          "data": {
            "text/plain": [
              "[('queen', 0.8372730016708374),\n",
              " ('prince', 0.7308457493782043),\n",
              " ('duke', 0.7141456007957458),\n",
              " ('widow', 0.704542875289917),\n",
              " ('york', 0.6991268396377563),\n",
              " ('princess', 0.6934213042259216),\n",
              " ('warwick', 0.6918945908546448),\n",
              " ('cardinal', 0.6858773231506348),\n",
              " ('son', 0.6751499772071838),\n",
              " ('suffolk', 0.6736131310462952)]"
            ]
          },
          "metadata": {},
          "execution_count": 7
        }
      ]
    },
    {
      "cell_type": "markdown",
      "metadata": {
        "id": "AJL45y5emjA9"
      },
      "source": [
        "In other words, we want a vector close to `king` and `woman` but subtracting the dimensions that are important to `man`, i.e., `queen`. Other words are mostly noble titles important in Shakespeare's \"history\" plays.\n",
        "\n",
        "For the rest of this assignment, we will focus on finding words with similar embeddings, both within and across languages. For example, what words are similar to the name of the title character of *Othello*?"
      ]
    },
    {
      "cell_type": "code",
      "metadata": {
        "id": "1EZGroU0KPyj",
        "colab": {
          "base_uri": "https://localhost:8080/"
        },
        "outputId": "1a3adc00-1ad2-4dd7-b12e-72fa56df91da"
      },
      "source": [
        "model.wv.most_similar(positive=['othello'])\n",
        "#model.wv.most_similar(positive=['brutus'])"
      ],
      "execution_count": null,
      "outputs": [
        {
          "output_type": "execute_result",
          "data": {
            "text/plain": [
              "[('desdemona', 0.943556547164917),\n",
              " ('iago', 0.938313901424408),\n",
              " ('jul', 0.9118384718894958),\n",
              " ('imogen', 0.9086349606513977),\n",
              " ('ham', 0.9085931181907654),\n",
              " ('emilia', 0.9075225591659546),\n",
              " ('rosalind', 0.9025547504425049),\n",
              " ('valentine', 0.8985823392868042),\n",
              " ('glou', 0.892645537853241),\n",
              " ('countess', 0.8885270357131958)]"
            ]
          },
          "metadata": {},
          "execution_count": 8
        }
      ]
    },
    {
      "cell_type": "markdown",
      "metadata": {
        "id": "UM2BT_7zZle3"
      },
      "source": [
        "If you know the play, you might see some familiar names.\n",
        "\n",
        "This search uses cosine similarity. In the default API, you should see the same similarity between the words `othello` and `desdemona` as in the search results above."
      ]
    },
    {
      "cell_type": "code",
      "metadata": {
        "id": "-e32-u4zYFda",
        "colab": {
          "base_uri": "https://localhost:8080/"
        },
        "outputId": "5c86a041-1d75-441d-f24e-610b20a90294"
      },
      "source": [
        "model.wv.similarity('othello', 'desdemona')"
      ],
      "execution_count": null,
      "outputs": [
        {
          "output_type": "execute_result",
          "data": {
            "text/plain": [
              "0.94355655"
            ]
          },
          "metadata": {},
          "execution_count": 9
        }
      ]
    },
    {
      "cell_type": "markdown",
      "metadata": {
        "id": "c49DwfAmZ6PU"
      },
      "source": [
        "**TODO**: Your **first task**, therefore, is to implement your own cosine similarity function so that you can reuse it outside of the context of the gensim model object."
      ]
    },
    {
      "cell_type": "code",
      "metadata": {
        "id": "rEj2PqpuZ5xs",
        "colab": {
          "base_uri": "https://localhost:8080/"
        },
        "outputId": "74f89e38-bac6-45ce-bed2-da23117f9450"
      },
      "source": [
        "## TODO: Implement cosim\n",
        "def cosim(v1, v2):\n",
        "  dot_product = np.dot(v1, v2)\n",
        "  norm_v1 = np.linalg.norm(v1)\n",
        "  norm_v2 = np.linalg.norm(v2)\n",
        "  return dot_product / (norm_v1 * norm_v2)\n",
        "\n",
        "## This should give a result similar to model.wv.similarity:\n",
        "cosim(model.wv['othello'], model.wv['desdemona'])"
      ],
      "execution_count": null,
      "outputs": [
        {
          "output_type": "execute_result",
          "data": {
            "text/plain": [
              "0.9435564"
            ]
          },
          "metadata": {},
          "execution_count": 10
        }
      ]
    },
    {
      "cell_type": "markdown",
      "metadata": {
        "id": "3TbDqBIHbHfB"
      },
      "source": [
        "## Evaluation\n",
        "\n",
        "We could collect a lot of human judgments about how similar pairs of words, or pairs of Shakespearean characters, are. Then we could compare different word-embedding models by their ability to replicate these human judgments.\n",
        "\n",
        "If we extend our ambition to multiple languages, however, we can use a word translation task to evaluate word embeddings.\n",
        "\n",
        "We will use a subset of [Facebook AI's FastText cross-language embeddings](https://fasttext.cc/docs/en/aligned-vectors.html) for several languages. Your task will be to compare English both to French, and to *one more language* from the following set: Arabic, German, Portuguese, Russian, Spanish, Vietnamese, and Chinese."
      ]
    },
    {
      "cell_type": "code",
      "metadata": {
        "id": "FC_FXRnfq1BO",
        "colab": {
          "base_uri": "https://localhost:8080/"
        },
        "outputId": "b87b9e39-b0ac-4028-e1b2-447ed674cc0f"
      },
      "source": [
        "!wget http://www.ccs.neu.edu/home/dasmith/courses/cs6200/30k.en.vec\n",
        "!wget http://www.ccs.neu.edu/home/dasmith/courses/cs6200/30k.fr.vec\n",
        "\n",
        "# TODO: uncomment at least one of these to work with another language\n",
        "# !wget http://www.ccs.neu.edu/home/dasmith/courses/cs6200/30k.ar.vec\n",
        "# !wget http://www.ccs.neu.edu/home/dasmith/courses/cs6200/30k.de.vec\n",
        "# !wget http://www.ccs.neu.edu/home/dasmith/courses/cs6200/30k.pt.vec\n",
        "# !wget http://www.ccs.neu.edu/home/dasmith/courses/cs6200/30k.ru.vec\n",
        "!wget http://www.ccs.neu.edu/home/dasmith/courses/cs6200/30k.es.vec\n",
        "# !wget http://www.ccs.neu.edu/home/dasmith/courses/cs6200/30k.vi.vec\n",
        "# !wget http://www.ccs.neu.edu/home/dasmith/courses/cs6200/30k.zh.vec"
      ],
      "execution_count": null,
      "outputs": [
        {
          "output_type": "stream",
          "name": "stdout",
          "text": [
            "--2024-12-06 01:33:01--  http://www.ccs.neu.edu/home/dasmith/courses/cs6200/30k.en.vec\n",
            "Resolving www.ccs.neu.edu (www.ccs.neu.edu)... 52.70.229.197\n",
            "Connecting to www.ccs.neu.edu (www.ccs.neu.edu)|52.70.229.197|:80... connected.\n",
            "HTTP request sent, awaiting response... 301 Moved Permanently\n",
            "Location: https://www.khoury.northeastern.edu/home/dasmith/courses/cs6200/30k.en.vec [following]\n",
            "--2024-12-06 01:33:02--  https://www.khoury.northeastern.edu/home/dasmith/courses/cs6200/30k.en.vec\n",
            "Resolving www.khoury.northeastern.edu (www.khoury.northeastern.edu)... 52.70.229.197\n",
            "Connecting to www.khoury.northeastern.edu (www.khoury.northeastern.edu)|52.70.229.197|:443... connected.\n",
            "HTTP request sent, awaiting response... 200 OK\n",
            "Length: 67681172 (65M)\n",
            "Saving to: ‘30k.en.vec.1’\n",
            "\n",
            "30k.en.vec.1        100%[===================>]  64.54M  39.1MB/s    in 1.7s    \n",
            "\n",
            "2024-12-06 01:33:04 (39.1 MB/s) - ‘30k.en.vec.1’ saved [67681172/67681172]\n",
            "\n",
            "--2024-12-06 01:33:04--  http://www.ccs.neu.edu/home/dasmith/courses/cs6200/30k.fr.vec\n",
            "Resolving www.ccs.neu.edu (www.ccs.neu.edu)... 52.70.229.197\n",
            "Connecting to www.ccs.neu.edu (www.ccs.neu.edu)|52.70.229.197|:80... connected.\n",
            "HTTP request sent, awaiting response... 301 Moved Permanently\n",
            "Location: https://www.khoury.northeastern.edu/home/dasmith/courses/cs6200/30k.fr.vec [following]\n",
            "--2024-12-06 01:33:04--  https://www.khoury.northeastern.edu/home/dasmith/courses/cs6200/30k.fr.vec\n",
            "Resolving www.khoury.northeastern.edu (www.khoury.northeastern.edu)... 52.70.229.197\n",
            "Connecting to www.khoury.northeastern.edu (www.khoury.northeastern.edu)|52.70.229.197|:443... connected.\n",
            "HTTP request sent, awaiting response... 200 OK\n",
            "Length: 67802327 (65M)\n",
            "Saving to: ‘30k.fr.vec.1’\n",
            "\n",
            "30k.fr.vec.1        100%[===================>]  64.66M  38.4MB/s    in 1.7s    \n",
            "\n",
            "2024-12-06 01:33:06 (38.4 MB/s) - ‘30k.fr.vec.1’ saved [67802327/67802327]\n",
            "\n",
            "--2024-12-06 01:33:06--  http://www.ccs.neu.edu/home/dasmith/courses/cs6200/30k.es.vec\n",
            "Resolving www.ccs.neu.edu (www.ccs.neu.edu)... 52.70.229.197\n",
            "Connecting to www.ccs.neu.edu (www.ccs.neu.edu)|52.70.229.197|:80... connected.\n",
            "HTTP request sent, awaiting response... 301 Moved Permanently\n",
            "Location: https://www.khoury.northeastern.edu/home/dasmith/courses/cs6200/30k.es.vec [following]\n",
            "--2024-12-06 01:33:06--  https://www.khoury.northeastern.edu/home/dasmith/courses/cs6200/30k.es.vec\n",
            "Resolving www.khoury.northeastern.edu (www.khoury.northeastern.edu)... 52.70.229.197\n",
            "Connecting to www.khoury.northeastern.edu (www.khoury.northeastern.edu)|52.70.229.197|:443... connected.\n",
            "HTTP request sent, awaiting response... 200 OK\n",
            "Length: 67762853 (65M) [application/ecmascript]\n",
            "Saving to: ‘30k.es.vec.1’\n",
            "\n",
            "30k.es.vec.1        100%[===================>]  64.62M  36.9MB/s    in 1.7s    \n",
            "\n",
            "2024-12-06 01:33:08 (36.9 MB/s) - ‘30k.es.vec.1’ saved [67762853/67762853]\n",
            "\n"
          ]
        }
      ]
    },
    {
      "cell_type": "markdown",
      "metadata": {
        "id": "nmuIvGpNrJPe"
      },
      "source": [
        "We'll start by loading the word vectors from their textual file format to a dictionary mapping words to numpy arrays."
      ]
    },
    {
      "cell_type": "code",
      "metadata": {
        "id": "VbWORXkP2Vvn"
      },
      "source": [
        "def vecref(s):\n",
        "  (word, srec) = s.split(' ', 1)\n",
        "  return (word, np.fromstring(srec, sep=' '))\n",
        "\n",
        "def ftvectors(fname):\n",
        "  return { k:v for (k, v) in [vecref(s) for s in open(fname)] if len(v) > 1}\n",
        "\n",
        "envec = ftvectors('30k.en.vec')\n",
        "frvec = ftvectors('30k.fr.vec')\n",
        "\n",
        "# TODO: load vectors for one more language, such as zhvec (Chinese)\n",
        "# arvec = ftvectors('30k.ar.vec')\n",
        "# devec = ftvectors('30k.de.vec')\n",
        "# ptvec = ftvectors('30k.pt.vec')\n",
        "# ruvec = ftvectors('30k.ru.vec')\n",
        "esvec = ftvectors('30k.es.vec')\n",
        "# vivec = ftvectors('30k.vi.vec')\n",
        "# zhvec = ftvectors('30k.zh.vec')"
      ],
      "execution_count": null,
      "outputs": []
    },
    {
      "cell_type": "markdown",
      "metadata": {
        "id": "j88E1JdueZHc"
      },
      "source": [
        "**TODO**: Your next task is to write a simple function that takes a vector and a dictionary of vectors and finds the most similar item in the dictionary. For this assignment, a linear scan through the dictionary using your `cosim` function from above is acceptible."
      ]
    },
    {
      "cell_type": "code",
      "metadata": {
        "id": "gmdirYOjoSWV",
        "colab": {
          "base_uri": "https://localhost:8080/"
        },
        "outputId": "c333366c-e286-4a65-92dd-fc138c21f7cf"
      },
      "source": [
        "## TODO: implement this search function\n",
        "def mostSimilar(vec, vecDict):\n",
        "  mostSimilar = ''\n",
        "  similarity = -1\n",
        "  for word, vector in vecDict.items():\n",
        "      current_similarity = cosim(vec, vector)\n",
        "      if current_similarity > similarity:\n",
        "        similarity = current_similarity\n",
        "        mostSimilar = word\n",
        "  return (mostSimilar, similarity)\n",
        "\n",
        "## some example searches\n",
        "[mostSimilar(envec[e], frvec) for e in ['computer', 'germany', 'matrix', 'physics', 'yeast']]"
      ],
      "execution_count": null,
      "outputs": [
        {
          "output_type": "execute_result",
          "data": {
            "text/plain": [
              "[('informatique', 0.5023827767603765),\n",
              " ('allemagne', 0.593718413875964),\n",
              " ('matrice', 0.5088361302065517),\n",
              " ('physique', 0.4555543434796394),\n",
              " ('fermentation', 0.3504105196166514)]"
            ]
          },
          "metadata": {},
          "execution_count": 14
        }
      ]
    },
    {
      "cell_type": "markdown",
      "metadata": {
        "id": "NIKUD5qxpUMB"
      },
      "source": [
        "Some matches make more sense than others. Note that `computer` most closely matches `informatique`, the French term for *computer science*. If you looked further down the list, you would see `ordinateur`, the term for *computer*. This is one weakness of a focus only on embeddings for word *types* independent of context.\n",
        "\n",
        "To evalute cross-language embeddings more broadly, we'll look at a dataset of links between Wikipedia articles."
      ]
    },
    {
      "cell_type": "code",
      "metadata": {
        "id": "az10sIFwsEUP",
        "colab": {
          "base_uri": "https://localhost:8080/"
        },
        "outputId": "12eed131-1ad6-49d3-9b16-80b471d7b845"
      },
      "source": [
        "!wget http://www.ccs.neu.edu/home/dasmith/courses/cs6200/links.tab\n",
        "links = [s.split() for s in open('links.tab')]"
      ],
      "execution_count": null,
      "outputs": [
        {
          "output_type": "stream",
          "name": "stdout",
          "text": [
            "--2024-12-06 01:36:34--  http://www.ccs.neu.edu/home/dasmith/courses/cs6200/links.tab\n",
            "Resolving www.ccs.neu.edu (www.ccs.neu.edu)... 52.70.229.197\n",
            "Connecting to www.ccs.neu.edu (www.ccs.neu.edu)|52.70.229.197|:80... connected.\n",
            "HTTP request sent, awaiting response... 301 Moved Permanently\n",
            "Location: https://www.khoury.northeastern.edu/home/dasmith/courses/cs6200/links.tab [following]\n",
            "--2024-12-06 01:36:35--  https://www.khoury.northeastern.edu/home/dasmith/courses/cs6200/links.tab\n",
            "Resolving www.khoury.northeastern.edu (www.khoury.northeastern.edu)... 52.70.229.197\n",
            "Connecting to www.khoury.northeastern.edu (www.khoury.northeastern.edu)|52.70.229.197|:443... connected.\n",
            "HTTP request sent, awaiting response... 200 OK\n",
            "Length: 1408915 (1.3M)\n",
            "Saving to: ‘links.tab’\n",
            "\n",
            "links.tab           100%[===================>]   1.34M  3.59MB/s    in 0.4s    \n",
            "\n",
            "2024-12-06 01:36:36 (3.59 MB/s) - ‘links.tab’ saved [1408915/1408915]\n",
            "\n"
          ]
        }
      ]
    },
    {
      "cell_type": "markdown",
      "metadata": {
        "id": "sqHq0hFCv8NY"
      },
      "source": [
        "This `links` variable consists of triples of `(English term, language, term in that language)`. For example, here is the link between English `academy` and French `académie`:"
      ]
    },
    {
      "cell_type": "code",
      "metadata": {
        "id": "RQ7eusdxtdsq",
        "colab": {
          "base_uri": "https://localhost:8080/"
        },
        "outputId": "b4399a91-ad3a-44ef-fefe-4e7ebfe09dc2"
      },
      "source": [
        "links[302]"
      ],
      "execution_count": null,
      "outputs": [
        {
          "output_type": "execute_result",
          "data": {
            "text/plain": [
              "['academy', 'fr', 'académie']"
            ]
          },
          "metadata": {},
          "execution_count": 16
        }
      ]
    },
    {
      "cell_type": "markdown",
      "source": [
        "We construct a test set for English-French from the first 1000 links between those languages."
      ],
      "metadata": {
        "id": "oA85pbt3JL1Q"
      }
    },
    {
      "cell_type": "code",
      "source": [
        "frtest = [x for x in links if x[1] == \"fr\"][0:1000]\n",
        "frtest[0:10]"
      ],
      "metadata": {
        "colab": {
          "base_uri": "https://localhost:8080/"
        },
        "id": "wuYkUbkYIwSb",
        "outputId": "c17030fc-029a-4c04-abf3-640481a78458"
      },
      "execution_count": null,
      "outputs": [
        {
          "output_type": "execute_result",
          "data": {
            "text/plain": [
              "[['aalborg', 'fr', 'aalborg'],\n",
              " ['aarhus', 'fr', 'aarhus'],\n",
              " ['aba', 'fr', 'aba'],\n",
              " ['abad', 'fr', 'abad'],\n",
              " ['abandon', 'fr', 'abandon'],\n",
              " ['abbas', 'fr', 'abbas'],\n",
              " ['abbasid', 'fr', 'abbassides'],\n",
              " ['abbess', 'fr', 'abbesse'],\n",
              " ['abbey', 'fr', 'abbaye'],\n",
              " ['abbot', 'fr', 'abbé']]"
            ]
          },
          "metadata": {},
          "execution_count": 17
        }
      ]
    },
    {
      "cell_type": "markdown",
      "metadata": {
        "id": "bYEdOQbmwql3"
      },
      "source": [
        "**TODO**: Evaluate the English and French embeddings by computing the proportion of English Wikipedia articles whose corresponding French article in this test set `frtest` is also the closest word in embedding space. Skip English articles not covered by the word embedding dictionary.\n",
        "\n",
        "Since many articles, e.g., about named entities, have the same title in English and French, use the identity function as a baseline and compute its accuracy. In other words, how often would you find the right French articles by simply echoing the English title as if it were French? In the ten example links above, `aalborg` and `aarhus` (two cities in Denmark) are the same in English and French. Remember to iterate only over the 1000 linked Wikipedia articles in the test set, not the entire embedding dictionary."
      ]
    },
    {
      "cell_type": "code",
      "metadata": {
        "id": "RJrTJ3ja91Z4",
        "colab": {
          "base_uri": "https://localhost:8080/"
        },
        "outputId": "1e5cdb5f-e946-4e0e-c8d6-4e445c048069"
      },
      "source": [
        "## TODO: Compute English-French Wikipedia retrieval accuracy.\n",
        "correct = 0\n",
        "baseline_correct = 0\n",
        "total = 0\n",
        "\n",
        "for en_word, _, fr_word in frtest:\n",
        "    if en_word in envec and fr_word in frvec:\n",
        "        total += 1\n",
        "        predicted_word, _ = mostSimilar(envec[en_word], frvec)\n",
        "        if predicted_word == fr_word:\n",
        "            correct += 1\n",
        "        if en_word == fr_word:\n",
        "            baseline_correct += 1\n",
        "\n",
        "accuracy = correct / total if total > 0 else 0\n",
        "baselineAccuracy = baseline_correct / total if total > 0 else 0\n",
        "\n",
        "print(f\"Embedding accuracy: {accuracy:.4f}\")\n",
        "print(f\"Baseline accuracy: {baselineAccuracy:.4f}\")"
      ],
      "execution_count": null,
      "outputs": [
        {
          "output_type": "stream",
          "name": "stdout",
          "text": [
            "Embedding accuracy: 0.8443\n",
            "Baseline accuracy: 0.6065\n"
          ]
        }
      ]
    },
    {
      "cell_type": "markdown",
      "metadata": {
        "id": "7hqd1buq-OEo"
      },
      "source": [
        "**TODO**: Compute the accuracy, i.e. precision@1, of the embeddings and of the identity function for the first 1000 links between English and another language besides French. Although the baseline will be lower for languages not written in the Roman alphabet (i.e., Arabic or Chinese), there are still many articles in those languages with headwords written in Roman characters."
      ]
    },
    {
      "cell_type": "code",
      "metadata": {
        "id": "ZjnKtHya-jmj",
        "colab": {
          "base_uri": "https://localhost:8080/"
        },
        "outputId": "692997a6-0c02-4f0a-b56d-ebebc5911e91"
      },
      "source": [
        "## TODO: Compute English-X Wikipedia retrieval accuracy.\n",
        "estest = [x for x in links if x[1] == \"es\"][0:1000]\n",
        "\n",
        "correct_es = 0\n",
        "baseline_correct_es = 0\n",
        "total_es = 0\n",
        "\n",
        "for en_word, _, es_word in estest:\n",
        "    if en_word in envec and es_word in esvec:\n",
        "        total_es += 1\n",
        "        predicted_word, _ = mostSimilar(envec[en_word], esvec)\n",
        "        if predicted_word == es_word:\n",
        "            correct_es += 1\n",
        "        if en_word == es_word:\n",
        "            baseline_correct_es += 1\n",
        "\n",
        "accuracy_es = correct_es / total_es if total_es > 0 else 0\n",
        "baselineAccuracy_es = baseline_correct_es / total_es if total_es > 0 else 0\n",
        "\n",
        "print(f\"Embedding accuracy (ES): {accuracy_es:.4f}\")\n",
        "print(f\"Baseline accuracy (ES): {baselineAccuracy_es:.4f}\")"
      ],
      "execution_count": null,
      "outputs": [
        {
          "output_type": "stream",
          "name": "stdout",
          "text": [
            "Embedding accuracy (ES): 0.8284\n",
            "Baseline accuracy (ES): 0.4590\n"
          ]
        }
      ]
    },
    {
      "cell_type": "markdown",
      "metadata": {
        "id": "E6z01sufFPJh"
      },
      "source": [
        "**TODO**: Find the 10 nearest neighbors of each English term to compute \"recall at 10\" and \"mean reciprocal rank at 10\"."
      ]
    },
    {
      "cell_type": "code",
      "source": [
        "## TODO: Compute recall@10 and MRR@10 when retrieving 10 nearest neighbors in French and some other language.\n",
        "def compute_metrics(test_set, src_vec, tgt_vec):\n",
        "    recall_10 = 0\n",
        "    mrr_10 = 0\n",
        "    total = 0\n",
        "\n",
        "    for src_word, _, tgt_word in test_set:\n",
        "        if src_word in src_vec and tgt_word in tgt_vec:\n",
        "            total += 1\n",
        "            neighbors = sorted(tgt_vec.items(), key=lambda x: cosim(src_vec[src_word], x[1]), reverse=True)[:10]\n",
        "            neighbor_words = [word for word, _ in neighbors]\n",
        "\n",
        "            if tgt_word in neighbor_words:\n",
        "                recall_10 += 1\n",
        "                rank = neighbor_words.index(tgt_word) + 1\n",
        "                mrr_10 += 1 / rank\n",
        "\n",
        "    recall_10 /= total if total > 0 else 1\n",
        "    mrr_10 /= total if total > 0 else 1\n",
        "\n",
        "    return recall_10, mrr_10\n",
        "\n",
        "# Compute metrics for French\n",
        "recall_10_fr, mrr_10_fr = compute_metrics(frtest, envec, frvec)\n",
        "print(f\"French - Recall@10: {recall_10_fr:.4f}, MRR@10: {mrr_10_fr:.4f}\")\n",
        "\n",
        "# Compute metrics for Spanish (or your chosen language)\n",
        "recall_10_es, mrr_10_es = compute_metrics(estest, envec, esvec)\n",
        "print(f\"Spanish - Recall@10: {recall_10_es:.4f}, MRR@10: {mrr_10_es:.4f}\")"
      ],
      "metadata": {
        "id": "TgAORWTQl0Sl",
        "colab": {
          "base_uri": "https://localhost:8080/"
        },
        "outputId": "5cc97d84-00b0-432b-9938-56160564f1ba"
      },
      "execution_count": null,
      "outputs": [
        {
          "output_type": "stream",
          "name": "stdout",
          "text": [
            "French - Recall@10: 0.9457, MRR@10: 0.8831\n",
            "Spanish - Recall@10: 0.9490, MRR@10: 0.8728\n"
          ]
        }
      ]
    },
    {
      "cell_type": "markdown",
      "source": [
        "## Speeding up Vector Search (for CS6200)\n",
        "\n",
        "The list of Wikipedia headwords is short enough that a linear scan through the non-English language embeddings takes some time but is feasible. In a production system, you could index the word embeddings using SimHash or some other locality sensitive hashing scheme, as we discussed for duplicate detection, to speed up this process.\n",
        "\n",
        "A relatively easy way to get started with fast vector similarity search is to install Meta's `faiss` (Facebook AI Similarity Search) package and read [the tutorial](https://github.com/facebookresearch/faiss/wiki/Getting-started)."
      ],
      "metadata": {
        "id": "GsXoZaVsYMXR"
      }
    },
    {
      "cell_type": "code",
      "source": [
        "# Outside of colab, you may need a different package manager.\n",
        "# !apt install libomp-dev\n",
        "!pip install --upgrade faiss-cpu\n",
        "# Use this line instead if you have a GPU.\n",
        "# !python -m pip install --upgrade faiss-gpu\n",
        "import time\n",
        "import numpy as np\n",
        "import faiss\n",
        "\n",
        "def create_faiss_index(vectors):\n",
        "    d = vectors[list(vectors.keys())[0]].shape[0]  # Get the dimension of vectors\n",
        "    index = faiss.IndexFlatIP(d)  # Use inner product, which is equivalent to cosine similarity for normalized vectors\n",
        "\n",
        "    # Normalize vectors and add to the index\n",
        "    normalized_vectors = []\n",
        "    for vec in vectors.values():\n",
        "        normalized_vec = vec / np.linalg.norm(vec)\n",
        "        normalized_vectors.append(normalized_vec)\n",
        "\n",
        "    index.add(np.array(normalized_vectors))\n",
        "    return index, list(vectors.keys())\n",
        "\n",
        "# Create Faiss indexes\n",
        "fr_index, fr_words = create_faiss_index(frvec)\n",
        "es_index, es_words = create_faiss_index(esvec)\n",
        "\n",
        "def faiss_search(query_vec, index, words, k=10):\n",
        "    normalized_query = query_vec / np.linalg.norm(query_vec)\n",
        "    D, I = index.search(normalized_query.reshape(1, -1), k)\n",
        "    return [words[i] for i in I[0]]\n",
        "\n",
        "# Measure effectiveness and efficiency\n",
        "def evaluate_search(test_set, src_vec, tgt_index, tgt_words):\n",
        "    recall_10 = 0\n",
        "    mrr_10 = 0\n",
        "    total = 0\n",
        "    start_time = time.time()\n",
        "\n",
        "    for src_word, _, tgt_word in test_set:\n",
        "        if src_word in src_vec:\n",
        "            total += 1\n",
        "            neighbors = faiss_search(src_vec[src_word], tgt_index, tgt_words)\n",
        "\n",
        "            if tgt_word in neighbors:\n",
        "                recall_10 += 1\n",
        "                rank = neighbors.index(tgt_word) + 1\n",
        "                mrr_10 += 1 / rank\n",
        "\n",
        "    elapsed_time = time.time() - start_time\n",
        "    recall_10 /= total if total > 0 else 1\n",
        "    mrr_10 /= total if total > 0 else 1\n",
        "\n",
        "    return recall_10, mrr_10, elapsed_time\n",
        "\n",
        "# Evaluate French\n",
        "recall_10_fr_faiss, mrr_10_fr_faiss, time_fr_faiss = evaluate_search(frtest, envec, fr_index, fr_words)\n",
        "print(f\"French (Faiss) - Recall@10: {recall_10_fr_faiss:.4f}, MRR@10: {mrr_10_fr_faiss:.4f}, Time: {time_fr_faiss:.2f}s\")\n",
        "\n",
        "# Evaluate Spanish\n",
        "recall_10_es_faiss, mrr_10_es_faiss, time_es_faiss = evaluate_search(estest, envec, es_index, es_words)\n",
        "print(f\"Spanish (Faiss) - Recall@10: {recall_10_es_faiss:.4f}, MRR@10: {mrr_10_es_faiss:.4f}, Time: {time_es_faiss:.2f}s\")\n",
        "\n",
        "# Compare with brute-force search times\n",
        "start_time = time.time()\n",
        "recall_10_fr, mrr_10_fr = compute_metrics(frtest, envec, frvec)\n",
        "time_fr_brute = time.time() - start_time\n",
        "print(f\"French (Brute-force) - Time: {time_fr_brute:.2f}s\")\n",
        "\n",
        "start_time = time.time()\n",
        "recall_10_es, mrr_10_es = compute_metrics(estest, envec, esvec)\n",
        "time_es_brute = time.time() - start_time\n",
        "print(f\"Spanish (Brute-force) - Time: {time_es_brute:.2f}s\")\n",
        "\n",
        "print(f\"Speedup for French: {time_fr_brute / time_fr_faiss:.2f}x\")\n",
        "print(f\"Speedup for Spanish: {time_es_brute / time_es_faiss:.2f}x\")"
      ],
      "metadata": {
        "id": "KSJ-c9PDKHaD",
        "colab": {
          "base_uri": "https://localhost:8080/"
        },
        "outputId": "7d0d176b-8a95-4af0-c073-9bccd0298b24"
      },
      "execution_count": null,
      "outputs": [
        {
          "output_type": "stream",
          "name": "stdout",
          "text": [
            "Collecting faiss-cpu\n",
            "  Downloading faiss_cpu-1.9.0.post1-cp310-cp310-manylinux_2_17_x86_64.manylinux2014_x86_64.whl.metadata (4.4 kB)\n",
            "Requirement already satisfied: numpy<3.0,>=1.25.0 in /usr/local/lib/python3.10/dist-packages (from faiss-cpu) (1.26.4)\n",
            "Requirement already satisfied: packaging in /usr/local/lib/python3.10/dist-packages (from faiss-cpu) (24.2)\n",
            "Downloading faiss_cpu-1.9.0.post1-cp310-cp310-manylinux_2_17_x86_64.manylinux2014_x86_64.whl (27.5 MB)\n",
            "\u001b[2K   \u001b[90m━━━━━━━━━━━━━━━━━━━━━━━━━━━━━━━━━━━━━━━━\u001b[0m \u001b[32m27.5/27.5 MB\u001b[0m \u001b[31m61.7 MB/s\u001b[0m eta \u001b[36m0:00:00\u001b[0m\n",
            "\u001b[?25hInstalling collected packages: faiss-cpu\n",
            "Successfully installed faiss-cpu-1.9.0.post1\n",
            "French (Faiss) - Recall@10: 0.6440, MRR@10: 0.6014, Time: 4.07s\n",
            "Spanish (Faiss) - Recall@10: 0.6140, MRR@10: 0.5647, Time: 3.61s\n",
            "French (Brute-force) - Time: 215.68s\n",
            "Spanish (Brute-force) - Time: 205.76s\n",
            "Speedup for French: 53.05x\n",
            "Speedup for Spanish: 57.00x\n"
          ]
        }
      ]
    },
    {
      "cell_type": "markdown",
      "source": [
        "**TODO**: Create two vector indexes, for the FastText embeddings of French and for the other language you evaluated above. Use `faiss` to find the 10 nearest neighbors for the top 1000 Wikipedia headwords you evaluated for English-French and the English-X as above.\n",
        "\n",
        "First, measure the _effectiveness_ of this approximate vector search approach. How does the R@10 and MRR@10 using `faiss` compare to the brute-force search you did above?\n",
        "\n",
        "Second, measure the _efficiency_ of this approach. How long in seconds does finding nearest neighbors for 1000 headwords by brute force compare to using `faiss`? (For this exercise, don't worry about amortizing indexing costs.)"
      ],
      "metadata": {
        "id": "hfr0buVwLz-o"
      }
    }
  ]
}